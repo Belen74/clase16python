{
  "nbformat": 4,
  "nbformat_minor": 0,
  "metadata": {
    "colab": {
      "name": "Untitled16.ipynb",
      "provenance": [],
      "authorship_tag": "ABX9TyNywjULCfeHe56oGCT0ctdd",
      "include_colab_link": true
    },
    "kernelspec": {
      "name": "python3",
      "display_name": "Python 3"
    },
    "language_info": {
      "name": "python"
    }
  },
  "cells": [
    {
      "cell_type": "markdown",
      "metadata": {
        "id": "view-in-github",
        "colab_type": "text"
      },
      "source": [
        "<a href=\"https://colab.research.google.com/github/Belen74/clase16python/blob/main/Untitled16.ipynb\" target=\"_parent\"><img src=\"https://colab.research.google.com/assets/colab-badge.svg\" alt=\"Open In Colab\"/></a>"
      ]
    },
    {
      "cell_type": "code",
      "execution_count": null,
      "metadata": {
        "id": "nczDGwQfVMRI"
      },
      "outputs": [],
      "source": [
        "lass Cuenta:\n",
        "    def __init__(self, titular, cantidad):\n",
        "        self.titular = titular\n",
        "        self.cantidad = cantidad\n",
        "        if cantidad<0:\n",
        "          print(f\"Su saldo está en negativo y es: ${self.cantidad}.\")\n",
        "    def mostrarDatos(self):\n",
        "      print(f\"El titular de la cuenta es: {self.titular}. Tiene un saldo de: ${self.cantidad}.\")\n",
        "    def ingresarSaldo(self,cantidad):\n",
        "      if cantidad>=0:\n",
        "        self.cantidad+=cantidad\n",
        "        print(f\"Ingresó: ${cantidad}. Su saldo es de: ${self.cantidad}.\")\n",
        "        return self.cantidad\n",
        "      else:\n",
        "        print(\"Error al ingresar el dinero\")\n",
        "    def retirarSaldo(self,cantidad):\n",
        "      self.cantidad-=cantidad\n",
        "      print(f\"Retiró: ${cantidad}. Su saldo es de: ${self.cantidad}\")\n",
        "      return self.cantidad\n",
        "cuenta1=Cuenta(\"Belén\",850)\n",
        "cuenta1.mostrarDatos()\n",
        "cuenta1.ingresarSaldo(50)\n",
        "cuenta1.retirarSaldo(460)\n",
        "cuenta1.mostrarDatos()"
      ]
    }
  ]
}