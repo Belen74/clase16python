{
  "nbformat": 4,
  "nbformat_minor": 0,
  "metadata": {
    "colab": {
      "name": "Untitled12.ipynb",
      "provenance": [],
      "authorship_tag": "ABX9TyPYC+ihDD3faaZyQ10/2PZm",
      "include_colab_link": true
    },
    "kernelspec": {
      "name": "python3",
      "display_name": "Python 3"
    },
    "language_info": {
      "name": "python"
    }
  },
  "cells": [
    {
      "cell_type": "markdown",
      "metadata": {
        "id": "view-in-github",
        "colab_type": "text"
      },
      "source": [
        "<a href=\"https://colab.research.google.com/github/Belen74/clase16python/blob/main/Untitled12.ipynb\" target=\"_parent\"><img src=\"https://colab.research.google.com/assets/colab-badge.svg\" alt=\"Open In Colab\"/></a>"
      ]
    },
    {
      "cell_type": "code",
      "execution_count": null,
      "metadata": {
        "id": "ruqJIYLUHny3",
        "outputId": "dc7e555f-6d6c-46bc-c4ba-d581906dea76",
        "colab": {
          "base_uri": "https://localhost:8080/"
        }
      },
      "outputs": [
        {
          "output_type": "stream",
          "name": "stdout",
          "text": [
            "El titular de la cuenta es: Belén. Tiene un saldo de: $850.\n",
            "Ingresó: $50. Su saldo es de: $900.\n",
            "Retiró: $460. Su saldo es de: $440\n",
            "El titular de la cuenta es: Belén. Tiene un saldo de: $440.\n"
          ]
        }
      ],
      "source": [
        "class Cuenta:\n",
        "    def __init__(self, titular, cantidad):\n",
        "        self.titular = titular\n",
        "        self.cantidad = cantidad\n",
        "        if cantidad<0:\n",
        "          print(f\"Su saldo está en negativo y es: ${self.cantidad}.\")\n",
        "    def mostrarDatos(self):\n",
        "      print(f\"El titular de la cuenta es: {self.titular}. Tiene un saldo de: ${self.cantidad}.\")\n",
        "    def ingresarSaldo(self,cantidad):\n",
        "      if cantidad>=0:\n",
        "        self.cantidad+=cantidad\n",
        "        print(f\"Ingresó: ${cantidad}. Su saldo es de: ${self.cantidad}.\")\n",
        "        return self.cantidad\n",
        "      else:\n",
        "        print(\"Error al ingresar el dinero\")\n",
        "    def retirarSaldo(self,cantidad):\n",
        "      self.cantidad-=cantidad\n",
        "      print(f\"Retiró: ${cantidad}. Su saldo es de: ${self.cantidad}\")\n",
        "      return self.cantidad\n",
        "cuenta1=Cuenta(\"Belén\",850)\n",
        "cuenta1.mostrarDatos()\n",
        "cuenta1.ingresarSaldo(50)\n",
        "cuenta1.retirarSaldo(460)\n",
        "cuenta1.mostrarDatos()"
      ]
    },
    {
      "cell_type": "code",
      "source": [
        ""
      ],
      "metadata": {
        "id": "kUVCDmri5T_5"
      },
      "execution_count": null,
      "outputs": []
    },
    {
      "cell_type": "code",
      "source": [
        ""
      ],
      "metadata": {
        "id": "Wl1lov_Q5n03"
      },
      "execution_count": null,
      "outputs": []
    },
    {
      "cell_type": "code",
      "source": [
        "class Mamifero:\n",
        "  def __init__(self, cantMamas, esperanzaDeVida):\n",
        "    self.cantMamas = cantMamas\n",
        "    self.__esperanzaDeVida = esperanzaDeVida\n",
        "\n",
        "  def mamar(self):\n",
        "    print(\"Esta alimentandose\")\n",
        "\n",
        "  def nacer():\n",
        "    print(\"esta naciendo\")\n",
        "\n",
        "  def __str__(self):\n",
        "    return f\"Esperanza de vida de {self.__esperanzaDeVida} años y tiene {self.cantMamas} mama.\" \n",
        "\n",
        "  def get_esperanzaDeVida(self):\n",
        "    return self.__esperanzaDeVida\n",
        "\n",
        "  def set_esperanzaDeVida(self, esperanzaDeVida):\n",
        "    self.__esperanzaDeVida = esperanzaDeVida    \n",
        "\n",
        "class AnimalMarino:\n",
        "  def __init__(self, tieneBranqueas, especie):\n",
        "    self.__tieneBranqueas = tieneBranqueas\n",
        "    self.__especie = especie\n",
        "\n",
        "  def nadar(self):\n",
        "    print(\"esta nadando...\")\n",
        "\n",
        "  def __str__(self):\n",
        "    return f\"La {self.__especie} es unos de los animales marinos mas grandes, tiene {self.__tieneBranqueas} no tiene branqueas.\"\n",
        "\n",
        "  def get_tieneBranqueas(self):\n",
        "    return self.__tieneBranqueas\n",
        "\n",
        "  def set_tieneBranqueas(self, tieneBranqueas):\n",
        "    self.__tieneBranqueas = tieneBranqueas\n",
        "\n",
        "  def get_especie(self):\n",
        "    return self.__especie\n",
        "\n",
        "  def set_especie(self, especie):\n",
        "    self.__especie = especie \n",
        "\n",
        "class Cetaceo(Mamifero, AnimalMarino):\n",
        "  def __init__(self, cantMamas, esperanzaDeVida, tieneBranqueas, especie, notas, viveEn, peso):\n",
        "\n",
        "    Mamifero.__init__(self, cantMamas, esperanzaDeVida )\n",
        "    AnimalMarino.__init__(self, tieneBranqueas, especie)\n",
        "       \n",
        "    self.__notas = notas\n",
        "    self.__viveEn = viveEn\n",
        "    self.__peso = peso\n",
        "\n",
        "  def __str__(self):\n",
        "    return  Mamifero.__str__(self) + \"\\n\" + AnimalMarino.__str__(self) + f\"\\nEste Cetaceo puede medir mas de {self.__notas} metros, vive en el {self.__viveEn} y su peso puede ser hasta de {self.__peso} toneladas.\" \n",
        "\n",
        "cetaceo1 =  Cetaceo(1, 80, \"pulmones\", \"Ballena azul\", 29, \"oceano pacifico\", 180)  \n",
        "\n",
        "print(f\"{cetaceo1}\")\n"
      ],
      "metadata": {
        "colab": {
          "base_uri": "https://localhost:8080/"
        },
        "id": "q2DgKF1c6B2V",
        "outputId": "766ef76b-9dbd-476a-ebe5-e1c43fd35834"
      },
      "execution_count": null,
      "outputs": [
        {
          "output_type": "stream",
          "name": "stdout",
          "text": [
            "Esperanza de vida de 80 años y tiene 1 mama.\n",
            "La Ballena azul es unos de los animales marinos mas grandes, tiene pulmones no tiene branqueas.\n",
            "Este Cetaceo puede medir mas de 29 metros, vive en el oceano pacifico y su peso puede ser hasta de 180 toneladas.\n"
          ]
        }
      ]
    },
    {
      "cell_type": "code",
      "source": [
        "class Mamifero:\n",
        "    def __init__(self,especie, esperanza_vida, cant_mamas) -> None:\n",
        "        \n",
        "        self.cant_mamas = cant_mamas\n",
        "        self.esperanza_vida = esperanza_vida\n",
        "        self.especie = especie\n",
        "    def __str__(self) -> str:\n",
        "        \n",
        "        if self.cant_mamas == 1:\n",
        "            return f\"Soy {self.especie}, osea que soy {type(self).__qualname__} mi promedio de vida son alrededor {self.esperanza_vida} años y tengo {self.cant_mamas} glandula mamaria\"\n",
        "        else: \n",
        "            return f\"Soy {self.especie}, osea que soy {type(self).__qualname__} mi promedio de vida son alrededor {self.esperanza_vida} años y tengo {self.cant_mamas} glandulas mamarias\"\n",
        "    def nacer(self):\n",
        "        return f\"{self.especie} Ha tenido una cria\"\n",
        "    \n",
        "    def mamar(self):\n",
        "        return f\"{self.especie} Esta amamantando\"\n",
        "    \n",
        "    \n",
        "class AnimalMarino:\n",
        "    habitat = \"Acuático\"\n",
        "    def __init__(self, especie, branqueas) -> None:\n",
        "        \n",
        "        self.branqueas = branqueas\n",
        "        self.especie = especie\n",
        "        \n",
        "    def __str__(self) -> str:\n",
        "        return f\"Soy {self.especie}, osea que soy {type(self).__name__} y {self.habitat}\"\n",
        "        \n",
        "        \n",
        "    def nadar(self):\n",
        "        return f\"{self.especie} esta nadando\"\n",
        "\n",
        "class Cetaceo(Mamifero,AnimalMarino): \n",
        "    \n",
        "    def __init__(self, especie, esperanza_vida, peso) -> None:\n",
        "        Mamifero.__init__(self, especie, esperanza_vida, cant_mamas=1)  ###los atributos si se especifican de que clase\n",
        "        self.habitat = AnimalMarino.habitat                             ###si uso super() igual serviria porque trae el constructor de la primer superclase de izq a der\n",
        "        self.peso = peso\n",
        "\n",
        "    def __str__(self) -> str:\n",
        "        \n",
        "        return f\"{Mamifero.__str__(self)}, tambien soy {self.habitat} por lo tanto soy {AnimalMarino.__name__}\"\n",
        "    \n",
        "ballena = Cetaceo(\"ballena\", 70, 1000)\n",
        "print(ballena.cant_mamas)  \n",
        "print(ballena)\n",
        "print(ballena.nacer()) ### cuando no encuentra el metodo en una clase pasa a buscarlo a otra clase\n",
        "print(ballena.nadar())\n",
        "\n",
        "tiburon = AnimalMarino(\"tiburon\",True)\n",
        "print(tiburon)\n",
        "\n",
        "vaca = Mamifero(\"Vaca\",70,4)\n",
        "print(vaca)"
      ],
      "metadata": {
        "colab": {
          "base_uri": "https://localhost:8080/"
        },
        "id": "cda2JwGs6Ob4",
        "outputId": "196c2e1a-5f03-4462-a824-e6f97c9084cd"
      },
      "execution_count": null,
      "outputs": [
        {
          "output_type": "stream",
          "name": "stdout",
          "text": [
            "1\n",
            "Soy ballena, osea que soy Cetaceo mi promedio de vida son alrededor 70 años y tengo 1 glandula mamaria, tambien soy Acuático por lo tanto soy AnimalMarino\n",
            "ballena Ha tenido una cria\n",
            "ballena esta nadando\n",
            "Soy tiburon, osea que soy AnimalMarino y Acuático\n",
            "Soy Vaca, osea que soy Mamifero mi promedio de vida son alrededor 70 años y tengo 4 glandulas mamarias\n"
          ]
        }
      ]
    },
    {
      "cell_type": "code",
      "source": [
        "class Mamifero:\n",
        "  def __init__(self,cantMamas,esperanzaDeVida):\n",
        "    self.cantMamas=cantMamas\n",
        "    self.__esperanzaDeVida=esperanzaDeVida \n",
        " \n",
        "  def mamar(self):\n",
        "    return \"Este animal está mamando\"\n",
        "\n",
        "  def nacer(self):\n",
        "    return \"Este animal nació\"\n",
        "\n",
        "class AnimalMarino:\n",
        "  def __init__(self,tieneBranqueas,especie):\n",
        "    self.__tieneBranqueas=tieneBranqueas\n",
        "    self.__especie=especie\n",
        "\n",
        "  def nadar(self):\n",
        "    return \"Este animal está nadando\"\n",
        "\n",
        "\n",
        "class Cetaceo(Mamifero,AnimalMarino):\n",
        "  def __init__(self,notas,viveEn,peso):\n",
        "    self.__notas=notas\n",
        "    self.__viveEn=viveEn\n",
        "    self.__peso=peso\n",
        "\n",
        "cet1=Cetaceo(2,2,4)\n",
        "print(cet1.nacer())\n",
        "cet2=Cetaceo(4,4,9)\n",
        "print(cet2.mamar())\n",
        "cet3=Cetaceo(2,5,44)\n",
        "print(cet3.nadar())\n"
      ],
      "metadata": {
        "colab": {
          "base_uri": "https://localhost:8080/"
        },
        "id": "nxLYdDKJ6ngZ",
        "outputId": "cc85b4da-18ae-4e5e-8f9a-8230a6a83a9a"
      },
      "execution_count": null,
      "outputs": [
        {
          "output_type": "stream",
          "name": "stdout",
          "text": [
            "Este animal nació\n",
            "Este animal está mamando\n",
            "Este animal está nadando\n"
          ]
        }
      ]
    },
    {
      "cell_type": "code",
      "source": [
        "class Mamifero:\n",
        "  \n",
        "    # Constructor de la clase\n",
        "    def __init__(self, cant_mamas=0 , esperanza_de_vida=0):\n",
        "\n",
        "        #Atributo de la instancia\n",
        "        self.__cant_mamas = cant_mamas\n",
        "        self.__esperanza_de_vida = esperanza_de_vida\n",
        "\n",
        "    #Metodos get - lo puedo visibilizar\n",
        "    def get_cant_mamas(self):\n",
        "        return self.__cant_mamas\n",
        "\n",
        "    def get_esperanza_de_vida(self):\n",
        "        return self.__esperanza_de_vida\n",
        "\n",
        "    #Metodos set - lo pudo modificar\n",
        "    def set_cant_mamas(self, cant_mamas):\n",
        "        self.__cant_mamas = cant_mamas\n",
        "\n",
        "    #Metodos\n",
        "    def mamar(self):\n",
        "        print(\"Esta mamando\")\n",
        "\n",
        "    def nacer(self):\n",
        "        print(\"Ha nacido\")\n",
        "\n",
        "mamifero1 = Mamifero(5, 50)\n",
        "\n",
        "print(f\"cantidad de mamas: {mamifero1.get_cant_mamas()}\")\n",
        "print(f\"Esperanza de vida {mamifero1.get_esperanza_de_vida()} años\")\n",
        "print(\"***************************************************************\")\n",
        "\n",
        "class Animal_Marino:\n",
        "  \n",
        "    # Constructor de la clase\n",
        "    def __init__(self, tiene_branqueas=True, especie=\"\"):\n",
        "\n",
        "        #Atributo de la instancia\n",
        "        self.__tiene_branqueas = tiene_branqueas\n",
        "        self.__especie = especie\n",
        "\n",
        "    #Metodos get - lo puedo visibilizar\n",
        "    def get_tiene_branqueas(self):\n",
        "        return self.__tiene_branqueas\n",
        "\n",
        "    def get_especie(self):\n",
        "        return self.__especie\n",
        "\n",
        "    #Metodos\n",
        "    def nadar(self):\n",
        "        print(\"Esta nadando\")\n",
        "\n",
        "animal_marino1 = Animal_Marino(True,\"Calamar\")\n",
        "\n",
        "print(f\"Tiene branqueas? {animal_marino1.get_tiene_branqueas()}\")\n",
        "print(f\"Especie: {animal_marino1.get_especie()}\")\n",
        "print(\"***************************************************************\")\n",
        "\n",
        "class Cetaceo(Mamifero, Animal_Marino):\n",
        "  \n",
        "    # Constructor de la clase\n",
        "    def __init__(self, notas=\"\", vive_en=\"\", peso=0 ):\n",
        "\n",
        "        #Atributo de la instancia\n",
        "        self.__notas = notas\n",
        "        self.__vive_en = vive_en\n",
        "        self.__peso = peso\n",
        "\n",
        "    #Metodos get - lo puedo visibilizar\n",
        "    def get_notas(self):\n",
        "        return self.__notas\n",
        "\n",
        "    def get_vive_en(self):\n",
        "        return self.__vive_en\n",
        "\n",
        "    def get_peso(self):\n",
        "        return self.__peso\n",
        "\n",
        "cetaceo1 = Cetaceo(\"Prueba\", \"Villa Nueva\" , 50)\n",
        "\n",
        "cetaceo1.nacer()\n",
        "\n",
        "print(f\"Notas:  {cetaceo1.get_notas()}\")\n",
        "print(f\"Vive en: {cetaceo1.get_vive_en()}\")\n",
        "print(f\"Su peso es: {cetaceo1.get_peso()} kilos\")\n",
        "\n",
        "cetaceo1.nadar()"
      ],
      "metadata": {
        "colab": {
          "base_uri": "https://localhost:8080/"
        },
        "id": "ETfQ8SiN5VcT",
        "outputId": "5b7f380e-6e04-45cc-cca7-f8df77c7ee7f"
      },
      "execution_count": null,
      "outputs": [
        {
          "output_type": "stream",
          "name": "stdout",
          "text": [
            "cantidad de mamas: 5\n",
            "Esperanza de vida 50 años\n",
            "***************************************************************\n",
            "Tiene branqueas? True\n",
            "Especie: Calamar\n",
            "***************************************************************\n",
            "Ha nacido\n",
            "Notas:  Prueba\n",
            "Vive en: Villa Nueva\n",
            "Su peso es: 50 kilos\n",
            "Esta nadando\n"
          ]
        }
      ]
    }
  ]
}